{
 "cells": [
  {
   "cell_type": "markdown",
   "metadata": {},
   "source": [
    "# Pyperclip"
   ]
  },
  {
   "cell_type": "markdown",
   "metadata": {},
   "source": [
    "## Create LaTeX table"
   ]
  },
  {
   "cell_type": "code",
   "execution_count": null,
   "metadata": {},
   "outputs": [],
   "source": [
    "import pyperclip"
   ]
  },
  {
   "cell_type": "code",
   "execution_count": null,
   "metadata": {},
   "outputs": [],
   "source": [
    "# load stuff that seldom changes\n",
    "label = 'text'\n",
    "caption = 'text'\n",
    "bht = '[!bht]'\n",
    "lp = 'l'\n",
    "midrule = ''\n",
    "breplace_sz = True"
   ]
  },
  {
   "cell_type": "code",
   "execution_count": null,
   "metadata": {
    "scrolled": false
   },
   "outputs": [],
   "source": [
    "# adapt table here if you want ######################################\n",
    "#\"\"\"\n",
    "caption = 'Standardkonturen und ihre Verwendung'\n",
    "label = 'standkont' #\"\"\"\n",
    "\"\"\"\n",
    "bht = '' #\"\"\"\n",
    "\"\"\"\n",
    "lp = 'p{cm}' #\"\"\"\n",
    "\"\"\"\n",
    "midrule = '\\n\\\\midrule' #\"\"\"\n",
    "\n",
    "# create table ######################################################\n",
    "table_str = pyperclip.paste()\n",
    "if breplace_sz:\n",
    "    table_str = table_str.replace(\"ß\",\"{\\ss}\")\n",
    "\n",
    "# avoid last empty row\n",
    "if table_str[-1] == \"\\n\":\n",
    "    table_str = table_str[:-1]\n",
    "\n",
    "table_list = table_str.split(\"\\n\")\n",
    "table_arr = [[cell.strip() for cell in row.split(\"\\t\")] for row in table_list]\n",
    "table_start = '\\\\begin{table}%s\\n\\\\begin{tabular}{%s}\\n\\\\toprule\\n%s \\\\\\\\\\n\\\\midrule' % (\n",
    "    bht,\n",
    "    \"|\".join([lp]*len(table_arr[0])),\n",
    "    \" & \".join(['\\\\textbf{%s}' % col_name for col_name in table_arr[0]])\n",
    ")\n",
    "table_body = \"\\n\".join([\"%s \\\\\\\\%s\" % (\" & \".join(row),midrule) for row in table_arr[1:]])\n",
    "table_end = \"\\\\end{tabular}\\n\\\\caption{%s}\\n\\\\label{tab:%s}\\n\\\\end{table}\\n\"%(caption, label)\n",
    "table = \"\\n\".join([table_start, table_body, table_end])\n",
    "print(table)"
   ]
  },
  {
   "cell_type": "code",
   "execution_count": null,
   "metadata": {},
   "outputs": [],
   "source": [
    "pyperclip.copy(table)"
   ]
  },
  {
   "cell_type": "markdown",
   "metadata": {},
   "source": [
    "## Create HTML table"
   ]
  },
  {
   "cell_type": "code",
   "execution_count": null,
   "metadata": {},
   "outputs": [],
   "source": [
    "import pyperclip"
   ]
  },
  {
   "cell_type": "code",
   "execution_count": null,
   "metadata": {},
   "outputs": [],
   "source": [
    "# adapt table here if you want, beware of missing spaces ############\n",
    "table_id = ''  # id=\n",
    "table_classes = ''  # class=''\n",
    "th_id = ''  # id=\n",
    "th_classes = ''  # class=''\n",
    "tr_id = ''  # id=\n",
    "tr_classes = ''  # class=''\n",
    "td_id = ''  # id=\n",
    "td_classes = ''  # class=''\n",
    "\n",
    "# create table ######################################################\n",
    "table_str = pyperclip.paste()\n",
    "\n",
    "# avoid last empty row\n",
    "if table_str[-1] == \"\\n\":\n",
    "    table_str = table_str[:-1]\n",
    "    \n",
    "table_list = table_str.split(\"\\n\")\n",
    "table_arr = [[cell.strip() for cell in row.split(\"\\t\")] for row in table_list]\n",
    "table_columns = [\"\\t<th%s%s>%s</th>\\n\" % (th_id, th_classes, th) for th in table_arr[0]] \\\n",
    "    + [\"\\t<tr%s%s>\\n%s\\t</tr>\\n\" % (\n",
    "        tr_id,\n",
    "        tr_classes,\n",
    "        \"\".join([\"\\t\\t<td%s%s>%s</td>\\n\" % (td_id, td_classes, tr) for tr in row])\n",
    "    )\n",
    "    for row in table_arr[1:]\n",
    "]\n",
    "table = \"<table%s%s>\\n%s</table>\\n\" % (table_id, table_classes, \"\".join(table_columns))\n",
    "print(table)"
   ]
  },
  {
   "cell_type": "code",
   "execution_count": null,
   "metadata": {},
   "outputs": [],
   "source": [
    "pyperclip.copy(table)"
   ]
  },
  {
   "cell_type": "markdown",
   "metadata": {},
   "source": [
    "## Sort values separated by an inner cell delimiter in a column\n",
    "e.g.\n",
    "<table>\n",
    "    <th>Column</th><th><div align=center>&rarr;</div></th><th>Column</th>\n",
    "    <tr><td><div align=center>bla</div></td><td><div align=center>&rarr;</div></td><td><div align=center>bla</div></td></tr>\n",
    "    <tr><td>blo, ble</td><td><div align=center>&rarr;</div></td><td>ble, blo</td></tr>\n",
    "</table>"
   ]
  },
  {
   "cell_type": "code",
   "execution_count": null,
   "metadata": {},
   "outputs": [],
   "source": [
    "import pyperclip"
   ]
  },
  {
   "cell_type": "code",
   "execution_count": null,
   "metadata": {},
   "outputs": [],
   "source": [
    "# adapt delimiter if needed\n",
    "delimiter = \"/\"\n",
    "\n",
    "column_str = pyperclip.paste()\n",
    "column = column_str[:-1].split(\"\\n\")\n",
    "column_new = []\n",
    "for row in column:\n",
    "    if row.find(delimiter) > -1:\n",
    "        values = row.split(delimiter)\n",
    "        column_new.append(\"/\".join(sorted([values[0][1:]]+values[1:], key=lambda v: v.upper())))\n",
    "    else:\n",
    "        column_new.append(row)\n",
    "column_str_new = \"\\n\".join(column_new)\n",
    "pyperclip.copy(column_str_new)\n",
    "column_new"
   ]
  },
  {
   "cell_type": "markdown",
   "metadata": {},
   "source": [
    "## Sort columns of a table individually"
   ]
  },
  {
   "cell_type": "code",
   "execution_count": null,
   "metadata": {},
   "outputs": [],
   "source": [
    "import pyperclip"
   ]
  },
  {
   "cell_type": "code",
   "execution_count": null,
   "metadata": {
    "code_folding": [],
    "scrolled": true
   },
   "outputs": [],
   "source": [
    "table_str = pyperclip.paste()\n",
    "\n",
    "# avoid last empty row\n",
    "if table_str[-1] == \"\\n\":\n",
    "    table_str = table_str[:-1]\n",
    "\n",
    "table_list = table_str.split(\"\\n\")\n",
    "table_arr = [[cell.strip() for cell in row.split(\"\\t\")] for row in table_list]\n",
    "\n",
    "# € has Unicode value 8364, after that the symbols are certainly irrelevant\n",
    "sorted_columns = [sorted(list(column)[1:], key=lambda x: x.upper() if x != \"\" else \"€\")\n",
    "                          for column in zip(*table_arr)]\n",
    "table = [table_arr[0]] \\\n",
    "          + [[cell if cell != \"\" else \"\" for cell in column]\n",
    "           for column in zip(*sorted_columns)\n",
    "           if column != ('',)*len(table_arr[0])\n",
    "          ]\n",
    "table"
   ]
  },
  {
   "cell_type": "code",
   "execution_count": null,
   "metadata": {
    "scrolled": true
   },
   "outputs": [],
   "source": [
    "table_str = \"\\n\".join([\"\\t\".join(row) for row in table])\n",
    "pyperclip.copy(table_str)"
   ]
  },
  {
   "cell_type": "markdown",
   "metadata": {},
   "source": [
    "## Sort 2-dimensional row-array based on unique values in one column\n",
    "\n",
    "e.g.\n",
    "\n",
    "<table>\n",
    "    <thead>\n",
    "        <th>Before</th>\n",
    "        <th>&rarr;</th>\n",
    "        <th>After</th>\n",
    "    </thead>\n",
    "    <tbody>\n",
    "        <tr>\n",
    "            <td>[[1, \"def\", ...],</td>\n",
    "            <td>&rarr;</td>\n",
    "            <td>[[1, \"def\", ...],</td>\n",
    "        </tr>\n",
    "        <tr>\n",
    "            <td>[1, \"def\", ...],</td>\n",
    "            <td>&mdash;</td>\n",
    "            <td>[2, \"def\", ...],</td>\n",
    "        </tr>\n",
    "        <tr>\n",
    "            <td>[2, \"def\", ...],</td>\n",
    "            <td>&#8599;</td>\n",
    "            <td>[3, \"def\", ...],</td>\n",
    "        </tr>\n",
    "        <tr>\n",
    "            <td>[3, \"def\", ...],</td>\n",
    "            <td>&#8599;</td>\n",
    "            <td>[4, \"def\", ...],</td>\n",
    "        </tr>\n",
    "        <tr>\n",
    "            <td>[4, \"def\", ...],</td>\n",
    "            <td>&#8599;</td>\n",
    "            <td>...]</td>\n",
    "        </tr>\n",
    "        <tr>\n",
    "            <td>...]</td>\n",
    "            <td>&#8599;</td>\n",
    "            <td></td>\n",
    "        </tr>\n",
    "    </tbody>\n",
    "</table>"
   ]
  },
  {
   "cell_type": "code",
   "execution_count": null,
   "metadata": {},
   "outputs": [],
   "source": [
    "import numpy as np\n",
    "import pyperclip\n",
    "\n",
    "def arr_dimen(a):\n",
    "    # http://stackoverflow.com/questions/17531796/ddg#17532024\n",
    "    return [len(a)] + arr_dimen(a[0]) if(type(a) == list) else []\n",
    "\n",
    "def set_of_col_in_2darr(bdarray, index):\n",
    "    \"\"\"\n",
    "    removes duplicates from the nth value of every subarray/-list/-tuple\n",
    "    where duplicates are the 2nd occurrence onwards of a value\n",
    "    needs: arr_dimen()\n",
    "    \n",
    "    bdarray: a bidimensional array or list or tuple\n",
    "    index: index of the nth value (like a column) that should be filtered\n",
    "    \"\"\"\n",
    "    \n",
    "    # get unique values\n",
    "    bdarray_type = type(bdarray)\n",
    "    if (bdarray_type ==  list or bdarray_type == tuple) and len(arr_dimen(bdarray)) == 2:\n",
    "        filter_column = np.array([a[index] for a in bdarray])\n",
    "        bdarray = np.array(bdarray)\n",
    "    elif bdarray_type == np.ndarray and len(bdarray.shape) == 2:\n",
    "        filter_column = np.transpose(bdarray)[index]\n",
    "    else:\n",
    "        return    \n",
    "\n",
    "    # filter original iterable\n",
    "    filt = np.full(filter_column.shape[0], False)\n",
    "    unique_positions = np.unique(filter_column, return_index=True)[1]\n",
    "    filt[unique_positions] = True\n",
    "    bd_array_filt = bdarray[filt]\n",
    "\n",
    "    if bdarray_type == list:\n",
    "        return bd_array_filt.tolist()\n",
    "    elif bdarray_type == tuple:\n",
    "        return tuple(map(tuple, bd_array_filt))\n",
    "    else:\n",
    "        return bd_array_filt"
   ]
  },
  {
   "cell_type": "code",
   "execution_count": null,
   "metadata": {},
   "outputs": [],
   "source": [
    "bdarray = pyperclip.paste()\n",
    "bdarray_filtered = set_of_col_in_2darr(bdarray, index)\n",
    "print(len(bdarray), len(bdarray_filtered))"
   ]
  },
  {
   "cell_type": "code",
   "execution_count": null,
   "metadata": {},
   "outputs": [],
   "source": [
    "pyperclip.copy(sorted(list(list_set)))"
   ]
  },
  {
   "cell_type": "markdown",
   "metadata": {},
   "source": [
    "## Count unique values"
   ]
  },
  {
   "cell_type": "code",
   "execution_count": null,
   "metadata": {},
   "outputs": [],
   "source": [
    "import pyperclip"
   ]
  },
  {
   "cell_type": "code",
   "execution_count": null,
   "metadata": {},
   "outputs": [],
   "source": [
    "list_str = pyperclip.paste()\n",
    "\n",
    "# avoid last empty row\n",
    "if list_str[-1] == \"\\n\":\n",
    "    list_str = list_str[:-1]\n",
    "    \n",
    "list_set = set(list_str.split(\"\\n\"))\n",
    "print(len(list_set))\n",
    "pyperclip.copy(sorted(list(list_set)))"
   ]
  },
  {
   "cell_type": "markdown",
   "metadata": {},
   "source": [
    "# MySQL dump to CSV file"
   ]
  },
  {
   "cell_type": "code",
   "execution_count": null,
   "metadata": {},
   "outputs": [],
   "source": [
    "import pandas as pd\n",
    "import os\n",
    "import glob\n",
    "import ast\n",
    "\n",
    "path_mysql_file = '/mnt/e/Ganz_doll_wichtiges/DFKI/Masterarbeit/Datenbank/'\n",
    "files = [file for file in glob.glob(path_mysql_file + 'MySQL/*') if file.find('/Dump') >= 0]\n",
    "current_file = max(files, key=os.path.getmtime) # or getctime (last metadata change on linux)\n",
    "table_name = ''\n",
    "\n",
    "with open(current_file, 'r') as d:\n",
    "    sql_dump = d.readlines()\n",
    "#sql_dump[:40]"
   ]
  },
  {
   "cell_type": "code",
   "execution_count": null,
   "metadata": {
    "scrolled": true
   },
   "outputs": [],
   "source": [
    "values = []\n",
    "all_values = []\n",
    "table_names = []\n",
    "column_names = []\n",
    "all_column_names = []\n",
    "bcol_names_start = False\n",
    "bvalues_start = False\n",
    "if table_name:\n",
    "    table_names.append(table_name)\n",
    "\n",
    "for line in sql_dump:\n",
    "\n",
    "    # column description starts with this line\n",
    "    if line.startswith('CREATE TABLE '):\n",
    "        if not table_name:\n",
    "            table_names.append(line.split('`')[1])\n",
    "            bcol_names_start = True\n",
    "        elif line.find(table_name) > 0:\n",
    "            table_names.append(line.split('`')[1])\n",
    "            bcol_names_start = True\n",
    "\n",
    "    # parse column names or find the end of the column description\n",
    "    elif bcol_names_start:\n",
    "        if line.find('PRIMARY KEY') > 0 or line.startswith(')'):\n",
    "            bcol_names_start = False\n",
    "        else:\n",
    "            column_names.append(line.split('`')[1])\n",
    "\n",
    "    # parse values in this line\n",
    "    elif line.startswith('INSERT INTO '):\n",
    "        \n",
    "        # python has problems to compare ` with its pendant in the file -> find()\n",
    "        if not table_name or 12 < line.find(table_name) < 14:\n",
    "            bvalues_start = True\n",
    "            values_str = '[' + line[line.find('VALUES (') + 7:-2] + ']'\n",
    "            values.extend([\n",
    "                \n",
    "                # pandas needs lists instead of tuples\n",
    "                list(value) for value\n",
    "                \n",
    "                # 2 times .replace(',NULL,',',None,')\\ for full recursivity\n",
    "                in ast.literal_eval(values_str\\\n",
    "                                    .replace(',NULL,',',None,')\\\n",
    "                                    .replace(',NULL,',',None,')\\\n",
    "                                    .replace('(NULL,','(None,')\\\n",
    "                                    .replace(',NULL)',',None)')\n",
    "                                   )\n",
    "            ])\n",
    "    \n",
    "    # add the information at the end of the \"INSERT INTO\" block/line\n",
    "    elif bvalues_start and line == \"UNLOCK TABLES;\\n\":\n",
    "        bvalues_start = False\n",
    "        all_values.append(values)\n",
    "        values = []\n",
    "        all_column_names.append(column_names)\n",
    "        column_names = []\n",
    "        \n",
    "    # if there is no \"INSERT INTO\" block/line, ignore the table\n",
    "    elif not bvalues_start and line == \"UNLOCK TABLES;\\n\" and table_names:\n",
    "        del table_names[-1]\n",
    "        column_names = []\n",
    "\n",
    "assert len(table_names) == len(all_column_names) == len(all_values), \\\n",
    "    \"table_names (%i), all_column_names (%i) and all_values (%i) don't have the same length\"\\\n",
    "    % (len(table_names), len(all_column_names), len(all_values))"
   ]
  },
  {
   "cell_type": "code",
   "execution_count": null,
   "metadata": {
    "scrolled": true
   },
   "outputs": [],
   "source": [
    "# create/save the file(s)\n",
    "for table_name, column_names, values in zip(table_names, all_column_names, all_values):\n",
    "    dfsql_dump = pd.DataFrame(values, columns=column_names)\n",
    "\n",
    "    # \\r leads to strange behaviour when opening the csv with a program like LibreOffice Calc\n",
    "    # pandas stores strings as a type called \"object\"\n",
    "    # using replace on a df without any string values -> error\n",
    "    if \"object\" in {str(d) for d in dfsql_dump.dtypes}:\n",
    "        dfsql_dump.replace({'\\r': '\\n'}, regex=True, inplace=True)\n",
    "\n",
    "    dfsql_dump.to_csv(path_mysql_file + \"MySQL/\" + table_name + '_mysql.tsv', sep='\\t',\n",
    "                      index=False)"
   ]
  },
  {
   "cell_type": "markdown",
   "metadata": {},
   "source": [
    "# List TODOs from a LaTeX document"
   ]
  },
  {
   "cell_type": "code",
   "execution_count": null,
   "metadata": {},
   "outputs": [],
   "source": [
    "import re"
   ]
  },
  {
   "cell_type": "code",
   "execution_count": null,
   "metadata": {},
   "outputs": [],
   "source": [
    "texdocument =  \"/mnt/e/Ganz_doll_wichtiges/DFKI/Masterarbeit/LaTeX/Archiv/Masterarbeit 03.01.19.tex\"\n",
    "with open(texdocument, \"r\") as d:\n",
    "    latex_doc = d.readlines()"
   ]
  },
  {
   "cell_type": "code",
   "execution_count": null,
   "metadata": {
    "code_folding": [
     35,
     36
    ],
    "scrolled": true
   },
   "outputs": [],
   "source": [
    "todos = []\n",
    "icurr_ch = 0\n",
    "icurr_se = 0\n",
    "\n",
    "def find_end(text, iend):\n",
    "    searchtext = text[:iend]\n",
    "    ibrackets_start = searchtext.count(\"{\")\n",
    "    ibrackets_end = searchtext.count(\"}\")\n",
    "\n",
    "    # if the searchtext is the whole todo note\n",
    "    if ibrackets_start == ibrackets_end:\n",
    "        return searchtext\n",
    "\n",
    "    if ibrackets_start > ibrackets_end and text[iend + 1:].find(\"}\") > -1:\n",
    "        return find_end(text, iend + 2 + text[iend + 1:].find(\"}\"))\n",
    "    else:\n",
    "        return \"!?Error?!: %s\" % searchtext\n",
    "\n",
    "for line_nr, line in enumerate(latex_doc):\n",
    "    if not line.isspace():\n",
    "\n",
    "        # fill dictionary with chapters and sections\n",
    "        if line.startswith(\"\\\\chapter\"):\n",
    "            icurr_ch += 1\n",
    "            icurr_se = 0\n",
    "        if line.startswith(\"\\\\section{\"):\n",
    "            icurr_se += 1\n",
    "\n",
    "        istart = line.find(\"\\\\todo\")\n",
    "        if istart >= 0:\n",
    "\n",
    "            # if the line is wholly a comment\n",
    "            if line.startswith(\"%\"):\n",
    "                continue\n",
    "\n",
    "            # erase the comment if there is one\n",
    "            icomment_start = re.search(r\"[^\\\\]%\",line)\n",
    "            if icomment_start:\n",
    "                line = line[:icomment_start.start()]\n",
    "\n",
    "            elements = []\n",
    "            for el in line.split(\"\\\\todo\")[1:]:\n",
    "                elements.append(find_end(el, 1 + el.find(\"}\")))\n",
    "            if elements:\n",
    "                todos.append([line_nr,float(\"%i.%i\"%(icurr_ch,icurr_se)), \" || \".join(elements)])\n",
    "\n",
    "print(len(todos))\n",
    "todos"
   ]
  },
  {
   "cell_type": "code",
   "execution_count": null,
   "metadata": {},
   "outputs": [],
   "source": [
    "# count the words of the todo notes\n",
    "len([word for line, chapter, text in todos\n",
    "     for word in text.replace(\"} || {\",\" \").split()\n",
    "    ])"
   ]
  },
  {
   "cell_type": "code",
   "execution_count": null,
   "metadata": {},
   "outputs": [],
   "source": []
  }
 ],
 "metadata": {
  "kernelspec": {
   "display_name": "Python 3",
   "language": "python",
   "name": "python3"
  },
  "language_info": {
   "codemirror_mode": {
    "name": "ipython",
    "version": 3
   },
   "file_extension": ".py",
   "mimetype": "text/x-python",
   "name": "python",
   "nbconvert_exporter": "python",
   "pygments_lexer": "ipython3",
   "version": "3.7.4"
  },
  "pycharm": {
   "stem_cell": {
    "cell_type": "raw",
    "metadata": {
     "collapsed": false
    },
    "source": []
   }
  },
  "toc": {
   "base_numbering": 1,
   "nav_menu": {},
   "number_sections": true,
   "sideBar": true,
   "skip_h1_title": false,
   "title_cell": "Table of Contents",
   "title_sidebar": "Contents",
   "toc_cell": false,
   "toc_position": {
    "height": "calc(100% - 180px)",
    "left": "10px",
    "top": "150px",
    "width": "273.2px"
   },
   "toc_section_display": true,
   "toc_window_display": true
  },
  "varInspector": {
   "cols": {
    "lenName": 16,
    "lenType": 16,
    "lenVar": 40
   },
   "kernels_config": {
    "python": {
     "delete_cmd_postfix": "",
     "delete_cmd_prefix": "del ",
     "library": "var_list.py",
     "varRefreshCmd": "print(var_dic_list())"
    },
    "r": {
     "delete_cmd_postfix": ") ",
     "delete_cmd_prefix": "rm(",
     "library": "var_list.r",
     "varRefreshCmd": "cat(var_dic_list()) "
    }
   },
   "position": {
    "height": "156.85px",
    "left": "1065px",
    "right": "20px",
    "top": "121px",
    "width": "281px"
   },
   "types_to_exclude": [
    "module",
    "function",
    "builtin_function_or_method",
    "instance",
    "_Feature"
   ],
   "window_display": false
  }
 },
 "nbformat": 4,
 "nbformat_minor": 2
}
